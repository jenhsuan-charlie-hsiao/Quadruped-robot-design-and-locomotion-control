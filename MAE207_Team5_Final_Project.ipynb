{
 "cells": [
  {
   "cell_type": "code",
   "execution_count": null,
   "metadata": {},
   "outputs": [],
   "source": [
    "%qtconsole"
   ]
  },
  {
   "cell_type": "markdown",
   "metadata": {},
   "source": [
    "# Setup and Calibration"
   ]
  },
  {
   "cell_type": "markdown",
   "metadata": {},
   "source": [
    "## import library"
   ]
  },
  {
   "cell_type": "code",
   "execution_count": null,
   "metadata": {},
   "outputs": [],
   "source": [
    "from __future__ import print_function\n",
    "\n",
    "import time\n",
    "\n",
    "import odrive\n",
    "import odrive.utils\n",
    "import odrive.enums\n",
    "from odrive.enums import *\n",
    "\n",
    "import math\n",
    "import matplotlib.pyplot as plt\n",
    "\n",
    "%matplotlib inline"
   ]
  },
  {
   "cell_type": "markdown",
   "metadata": {},
   "source": [
    "## forward kinematics"
   ]
  },
  {
   "cell_type": "code",
   "execution_count": null,
   "metadata": {},
   "outputs": [],
   "source": [
    "import numpy as np\n",
    "\n",
    "import matplotlib as mpl\n",
    "\n",
    "import matplotlib.pyplot as plt\n",
    "plt.ion()\n",
    "\n",
    "# for the symbolic manipulation of jacobian\n",
    "import sympy as sym\n",
    "from sympy import init_printing\n",
    "init_printing() # doctest: +SKIP\n",
    "from sympy.utilities.lambdify import lambdify\n",
    "\n",
    "from scipy.optimize import minimize\n",
    "from scipy.optimize import fsolve\n",
    "\n",
    "theta_L, theta_R = sym.symbols('theta_L, theta_R')\n",
    "x, y = sym.symbols('x y')\n",
    "\n",
    "link_1 = 0.09\n",
    "link_2 = 0.16\n",
    "w = 0.07\n",
    "\n",
    "gx = w+link_1*sym.cos(theta_R)-link_1*sym.cos(theta_L)\n",
    "gy = link_1*sym.sin(theta_R)-link_1*sym.sin(theta_L)\n",
    "g = sym.sqrt(gx**2+gy**2)\n",
    "\n",
    "cosA = g/(2*link_2)\n",
    "sinA = sym.sqrt(1-cosA**2)\n",
    "\n",
    "cosg = gx/g\n",
    "sing = gy/g\n",
    "\n",
    "# x = link_1*sym.cos(theta_1)+link_2*sym.cos(theta_A+theta_g)\n",
    "x = link_1*sym.cos(theta_L)+link_2*(cosA*cosg-sinA*sing)\n",
    "x_toe = x -w/2 # move the origin to (w/2,0)\n",
    "x_toe = x_toe.simplify()\n",
    "\n",
    "# y = link_1*sym.sin(theta_1)+link_2*sym.sin(theta_A+theta_g)\n",
    "y = link_1*sym.sin(theta_L)+link_2*(sinA*cosg+cosA*sing)\n",
    "y_toe = y.simplify()\n",
    "\n",
    "# Forward Kinematics\n",
    "FK_position = sym.Matrix([[x_toe], [y_toe]])\n",
    "FK_position\n",
    "\n",
    "# Jacobian\n",
    "Jacobian = FK_position.jacobian([theta_R, theta_L])\n",
    "# Jacobian.simplify() # this simplify step takes pretty long...\n",
    "Jacobian\n",
    "\n",
    "Jacobian_fast = lambdify((theta_R, theta_L), Jacobian)\n",
    "FK_position_fast = lambdify((theta_R, theta_L), FK_position)\n",
    "\n",
    "# test FK with Isosceles triangle case\n",
    "sym.sqrt(25**2-3.5**2)\n",
    "np.pi-sym.asin(24.7537/25)\n",
    "\n",
    "print('FK test, theta_R = 1.71, theta_L = 1.43')\n",
    "print(FK_position_fast(1.71, 1.43))\n",
    "print('FK test, theta_R = 0, theta_L = pi')\n",
    "print(FK_position_fast(0, np.pi))\n",
    "# print('FK test, theta_R = 0.5, theta_L = pi')\n",
    "# print(FK_position_fast(0.5, np.pi))\n",
    "\n",
    "# from IPython.display import Image\n",
    "# Image(\"img/Screen Shot 2019-06-09 at 11.22.53 PM.png\")\n"
   ]
  },
  {
   "cell_type": "markdown",
   "metadata": {},
   "source": [
    "## connect to odrive"
   ]
  },
  {
   "cell_type": "code",
   "execution_count": null,
   "metadata": {},
   "outputs": [],
   "source": [
    "odrvR = odrive.find_any(serial_number = \"3065394D3235\")\n",
    "if odrvR is not None:\n",
    "    print('Right Side Motors Connected!')\n",
    "    print('Odrive serial {}'.format(odrvR.serial_number))\n",
    "else:\n",
    "    print('Not connected')\n",
    "    \n",
    "time.sleep(1)\n",
    "\n",
    "odrvL = odrive.find_any(serial_number = \"306139573235\")\n",
    "if odrvL is not None:\n",
    "    print('Left Side Motors Connected!')\n",
    "    print('Odrive serial {}'.format(odrvL.serial_number))\n",
    "else:\n",
    "    print('Not connected')"
   ]
  },
  {
   "cell_type": "markdown",
   "metadata": {},
   "source": [
    "## calibration"
   ]
  },
  {
   "cell_type": "code",
   "execution_count": null,
   "metadata": {},
   "outputs": [],
   "source": [
    "def Calibration (odrv0):\n",
    "    odrv0.axis0.requested_state = odrive.enums.AXIS_STATE_FULL_CALIBRATION_SEQUENCE # right motor\n",
    "    odrv0.axis1.requested_state = odrive.enums.AXIS_STATE_FULL_CALIBRATION_SEQUENCE # left motor\n",
    "    print('calibration done')\n",
    "    return ()\n"
   ]
  },
  {
   "cell_type": "code",
   "execution_count": null,
   "metadata": {},
   "outputs": [],
   "source": [
    "Calibration(odrvR)\n",
    "time.sleep(1)\n",
    "Calibration(odrvL)\n"
   ]
  },
  {
   "cell_type": "markdown",
   "metadata": {},
   "source": [
    "## set parameters"
   ]
  },
  {
   "cell_type": "code",
   "execution_count": null,
   "metadata": {},
   "outputs": [],
   "source": [
    "def SetParameter(odrv0):\n",
    "    odrv0.axis0.controller.config.vel_limit = 200000\n",
    "    odrv0.axis1.controller.config.vel_limit = 200000\n",
    "    odrv0.axis0.controller.config.vel_limit_tolerance = 10000\n",
    "    odrv0.axis1.controller.config.vel_limit_tolerance = 10000\n",
    "    odrv0.axis0.motor.config.requested_current_range = 90\n",
    "    odrv0.axis1.motor.config.requested_current_range = 90\n",
    "    odrv0.axis0.controller.config.pos_gain = 20\n",
    "    odrv0.axis1.controller.config.pos_gain = 20\n",
    "    print('parameter set')\n",
    "    return ()\n",
    "\n",
    "def GetEncoderState(odrv0):\n",
    "    position_cpr0 = odrv0.axis0.encoder.pos_estimate # right motor\n",
    "    position_cpr1 = odrv0.axis1.encoder.pos_estimate # left motor\n",
    "    return (position_cpr0,position_cpr1)\n",
    "\n",
    "def IdleMode(odrv0):\n",
    "    # necessary to switch back to idle to manually control the links to read the encoder position\n",
    "    odrv0.axis0.requested_state = odrive.enums.AXIS_STATE_IDLE\n",
    "    odrv0.axis1.requested_state = odrive.enums.AXIS_STATE_IDLE\n",
    "    return()\n",
    "\n",
    "def ClosedLoopControlMode(odrv0):\n",
    "    # enter closed-loop control to give command to the motor\n",
    "    odrv0.axis0.requested_state = odrive.enums.AXIS_STATE_CLOSED_LOOP_CONTROL\n",
    "    odrv0.axis1.requested_state = odrive.enums.AXIS_STATE_CLOSED_LOOP_CONTROL\n",
    "    return()\n",
    "\n",
    "def MotorClearError(odrv0):\n",
    "    odrv0.axis0.error = 0\n",
    "    odrv0.axis0.motor.error = 0\n",
    "    odrv0.axis0.controller.error = 0\n",
    "    odrv0.axis0.encoder.error = 0\n",
    "    odrv0.axis1.error = 0\n",
    "    odrv0.axis1.motor.error = 0\n",
    "    odrv0.axis1.controller.error = 0\n",
    "    odrv0.axis1.encoder.error = 0\n",
    "    return()\n",
    "\n",
    "def CheckMotorError(odrv0):\n",
    "    axis0error = odrv0.axis0.error \n",
    "    axis0motorerror = odrv0.axis0.motor.error \n",
    "    axis0controllererror = odrv0.axis0.controller.error \n",
    "    axis1error = odrv0.axis1.error \n",
    "    axis1motorerror = odrv0.axis1.motor.error \n",
    "    axis1controllererror = odrv0.axis1.controller.error \n",
    "    return(axis0error, axis0motorerror, axis0controllererror, axis1error, axis1motorerror, axis1controllererror)\n"
   ]
  },
  {
   "cell_type": "code",
   "execution_count": null,
   "metadata": {},
   "outputs": [],
   "source": [
    "SetParameter(odrvR)\n",
    "SetParameter(odrvL)\n"
   ]
  },
  {
   "cell_type": "markdown",
   "metadata": {},
   "source": [
    "## define home positions"
   ]
  },
  {
   "cell_type": "code",
   "execution_count": null,
   "metadata": {},
   "outputs": [],
   "source": [
    "RM_home_position = GetEncoderState(odrvR)\n",
    "RM_homeR = RM_home_position[0] # right motor, M0\n",
    "RM_homeL = RM_home_position[1] # left motor, M1\n",
    "print('right side motors home_position')\n",
    "print('right, left')\n",
    "print(RM_home_position)\n",
    "\n",
    "LM_home_position = GetEncoderState(odrvL)\n",
    "LM_homeR = LM_home_position[0] # right motor, M0\n",
    "LM_homeL = LM_home_position[1] # left motor, M1\n",
    "print('left side motors home_position')\n",
    "print('right, left')\n",
    "print(LM_home_position)"
   ]
  },
  {
   "cell_type": "markdown",
   "metadata": {},
   "source": [
    "# Demo 1: Input desired trajectory by moving the end effector"
   ]
  },
  {
   "cell_type": "markdown",
   "metadata": {},
   "source": [
    "## read the encoder position to generate trajectory"
   ]
  },
  {
   "cell_type": "code",
   "execution_count": null,
   "metadata": {},
   "outputs": [],
   "source": [
    "def ReadManuallyInput(odrv0, homeR, homeL, timelength):\n",
    "    left_motor_en = [] # motor M1, position in encoder unit\n",
    "    left_motor_rad = [] # motor M1, position in rad \n",
    "    right_motor_en = [] # motor M0, position in encoder unit\n",
    "    right_motor_rad = [] # motor M0, position in rad \n",
    "    import time\n",
    "    timeout = time.time() + timelength \n",
    "    while True:\n",
    "        test = 0\n",
    "        if test == 15 or time.time() > timeout:\n",
    "            break\n",
    "        test = test - 1\n",
    "        # first read the encoder value\n",
    "        encoder_state = GetEncoderState(odrv0)\n",
    "#         print(encoder_state)\n",
    "        right_motor_en.append(encoder_state[0])\n",
    "        left_motor_en.append(encoder_state[1])\n",
    "        # then transform into radius\n",
    "        theta_R = -(encoder_state[0]-homeR)*2*np.pi/8192\n",
    "        theta_L = np.pi-(encoder_state[1]-homeL)*2*np.pi/8192 \n",
    "#         print(theta_R, theta_L)\n",
    "        if theta_R > np.pi:\n",
    "            theta_R = theta_R-2*np.pi\n",
    "        elif theta_R < -np.pi:\n",
    "            theta_R = theta_R + 2*np.pi\n",
    "        else:\n",
    "            theta_R = theta_R\n",
    "        if theta_L > np.pi:\n",
    "            theta_L = theta_L-2*np.pi\n",
    "        elif theta_L < -np.pi:\n",
    "            theta_R = theta_L + 2*np.pi\n",
    "        else:\n",
    "            theta_L = theta_L\n",
    "        right_motor_rad.append(theta_R)\n",
    "        left_motor_rad.append(theta_L)\n",
    "        time.sleep(0.01)\n",
    "    print('loop end, trajectory recorded')\n",
    "    return(right_motor_rad, left_motor_rad, right_motor_en, left_motor_en)"
   ]
  },
  {
   "cell_type": "markdown",
   "metadata": {},
   "source": [
    "## test left side motors "
   ]
  },
  {
   "cell_type": "markdown",
   "metadata": {},
   "source": [
    "## read trajectory"
   ]
  },
  {
   "cell_type": "code",
   "execution_count": null,
   "metadata": {},
   "outputs": [],
   "source": [
    "timelength = 5\n",
    "LMangle = ReadManuallyInput(odrvL, LM_homeR, LM_homeL, timelength)\n",
    "right_motor_rad = []\n",
    "left_motor_rad = []\n",
    "right_motor_rad = LMangle[0]\n",
    "left_motor_rad = LMangle[1]\n",
    "\n",
    "x_plot = []\n",
    "y_plot = []\n",
    "for i in range(len(right_motor_rad)):\n",
    "    xy_position=FK_position_fast(right_motor_rad[i], left_motor_rad[i])\n",
    "    x_plot.append(xy_position[0])\n",
    "    y_plot.append(xy_position[1])\n",
    "    \n",
    "plt.plot(x_plot, y_plot)\n",
    "plt.xlabel('x position (m)')\n",
    "plt.ylabel('y position (m)')\n"
   ]
  },
  {
   "cell_type": "markdown",
   "metadata": {},
   "source": [
    "## open loop control"
   ]
  },
  {
   "cell_type": "code",
   "execution_count": null,
   "metadata": {},
   "outputs": [],
   "source": [
    "# enter closed-loop control to give command to the motor\n",
    "ClosedLoopControlMode(odrvL)\n",
    "\n",
    "right_motor_en = []\n",
    "left_motor_en = []\n",
    "\n",
    "# Generate a cyclic leg trajectory\n",
    "right_motor_en = LMangle[2]\n",
    "left_motor_en = LMangle[3]\n",
    "for i in range(len(left_motor_en)):\n",
    "    odrvL.axis0.controller.pos_setpoint = right_motor_en[i]\n",
    "    odrvL.axis1.controller.pos_setpoint = left_motor_en[i]\n",
    "    time.sleep(0.01)\n",
    "\n",
    "# end the loop with the motor back to idle mode\n",
    "MotorClearError(odrvL)\n",
    "IdleMode(odrvL)"
   ]
  },
  {
   "cell_type": "markdown",
   "metadata": {},
   "source": [
    "## test right side motors"
   ]
  },
  {
   "cell_type": "markdown",
   "metadata": {},
   "source": [
    "## read trajectory"
   ]
  },
  {
   "cell_type": "code",
   "execution_count": null,
   "metadata": {},
   "outputs": [],
   "source": [
    "timelength = 5\n",
    "RMangle = ReadManuallyInput(odrvR, RM_homeR, RM_homeL, timelength)\n",
    "right_motor_rad = RMangle[0]\n",
    "left_motor_rad = RMangle[1]\n",
    "\n",
    "x_plot = []\n",
    "y_plot = []\n",
    "for i in range(len(right_motor_rad)):\n",
    "    xy_position=FK_position_fast(right_motor_rad[i], left_motor_rad[i])\n",
    "#     print(xy_position)\n",
    "    x_plot.append(xy_position[0])\n",
    "    y_plot.append(xy_position[1])\n",
    "    \n",
    "plt.plot(x_plot, y_plot)\n",
    "plt.xlabel('x position (m)')\n",
    "plt.ylabel('y position (m)')\n"
   ]
  },
  {
   "cell_type": "markdown",
   "metadata": {},
   "source": [
    "## open loop control"
   ]
  },
  {
   "cell_type": "code",
   "execution_count": null,
   "metadata": {},
   "outputs": [],
   "source": [
    "# enter closed-loop control to give command to the motor\n",
    "ClosedLoopControlMode(odrvR)\n",
    "\n",
    "# Generate a cyclic leg trajectory\n",
    "right_motor_en = RMangle[2]\n",
    "left_motor_en = RMangle[3]\n",
    "for i in range(len(left_motor_en)):\n",
    "    odrvR.axis0.controller.pos_setpoint = right_motor_en[i]\n",
    "    odrvR.axis1.controller.pos_setpoint = left_motor_en[i]\n",
    "    time.sleep(0.01)\n",
    "\n",
    "# end the loop with the motor back to idle mode\n",
    "# MotorClearError(odrvR)\n",
    "IdleMode(odrvR)"
   ]
  },
  {
   "cell_type": "markdown",
   "metadata": {},
   "source": [
    "# Demo 2: Using IK to generate desired trajectory"
   ]
  },
  {
   "cell_type": "markdown",
   "metadata": {},
   "source": [
    "## inverse kinematics"
   ]
  },
  {
   "cell_type": "code",
   "execution_count": null,
   "metadata": {},
   "outputs": [],
   "source": [
    "l1 = 0.09;                  # m \n",
    "l2 = 0.16;                  # m\n",
    "w = 0.07;                   # m\n",
    "\n",
    "def IK_5_link(x, y, l1 = l1, l2 = l2, w = w):\n",
    "    \n",
    "    def leg_wide(var):\n",
    "        return np.linalg.norm([var[0], var[1] - np.pi])\n",
    "    \n",
    "    def x_constraint_equation(var):\n",
    "        # should be equal to zero when the \n",
    "        return l1**2 - l2**2 + (x - w/2)**2 + y**2 - 2*l1*(y*np.sin(var[0]) + (x - w/2)*np.cos(var[0]))\n",
    "\n",
    "    def y_constraint_equation(var):\n",
    "        return l1**2 - l2**2 + (x + w/2)**2 + y**2 - 2*l1*(y*np.sin(var[1]) + (x + w/2)*np.cos(var[1]))\n",
    "\n",
    "    \n",
    "    res = minimize(leg_wide, (0.1, 9*np.pi/10), method=\"SLSQP\", \\\n",
    "                   constraints= ({\"type\": \"eq\", \"fun\": x_constraint_equation}, \\\n",
    "                                 {\"type\": \"eq\", \"fun\": y_constraint_equation}))\n",
    "    \n",
    "    return (res, np.linalg.norm([x_constraint_equation(res.x), y_constraint_equation(res.x)]))\n",
    "\n",
    "\n",
    "# Test, the following theta's correspond to the x-y below\n",
    "thetaR = .5\n",
    "thetaL = np.pi\n",
    "    \n",
    "# x = -0.024021708847354217\n",
    "# y = 0.12411037295149752\n",
    "# x = 0\n",
    "# y = 9.98749218e-02\n",
    "x=  0\n",
    "y = 2.47537816e-01\n",
    "\n",
    "res = IK_5_link(x, y)\n",
    "\n",
    "\n",
    "print(\"\"\"Compare the FK position (top) and the IK solution (bottom) method: \n",
    "          \\r\\n theta_R = {:.4f} \\t theta_L = {:.4f} \\r\\n theta_R = {:.4f} \\t theta_L = {:.4f}\"\"\".format(thetaR, thetaL, res[0].x[0], res[0].x[1]))"
   ]
  },
  {
   "cell_type": "markdown",
   "metadata": {},
   "source": [
    "## parabola swing phase trajectory"
   ]
  },
  {
   "cell_type": "code",
   "execution_count": null,
   "metadata": {},
   "outputs": [],
   "source": [
    "stance_phase_touch = 0.10\n",
    "stance_phase_lift = -0.10\n",
    "stance_phase_height = 0.18\n",
    "swing_phase_height = 0.10\n",
    "\n",
    "swing_step = 0.002\n",
    "stance_step = 0.004\n",
    "\n",
    "# from IPython.display import Image\n",
    "# Image(\"img/Screen Shot 2019-06-09 at 11.34.31 PM.png\")"
   ]
  },
  {
   "cell_type": "code",
   "execution_count": null,
   "metadata": {
    "scrolled": true
   },
   "outputs": [],
   "source": [
    "def calc_parabola_vertex(x1, y1, x2, y2, x3, y3):\n",
    "\n",
    "    denom = (x1-x2) * (x1-x3) * (x2-x3);\n",
    "    A     = (x3 * (y2-y1) + x2 * (y1-y3) + x1 * (y3-y2)) / denom;\n",
    "    B     = (x3*x3 * (y1-y2) + x2*x2 * (y3-y1) + x1*x1 * (y2-y3)) / denom;\n",
    "    C     = (x2 * x3 * (x2-x3) * y1+x3 * x1 * (x3-x1) * y2+x1 * x2 * (x1-x2) * y3) / denom;\n",
    "\n",
    "    return (A,B,C)\n",
    "\n",
    "x1,y1=[stance_phase_touch,stance_phase_height]\n",
    "x2,y2=[stance_phase_lift,stance_phase_height]\n",
    "x3,y3=[0,swing_phase_height]\n",
    "\n",
    "#Calculate the unknowns of the equation y=ax^2+bx+c\n",
    "a,b,c=calc_parabola_vertex(x1, y1, x2, y2, x3, y3)\n",
    "\n",
    "\n",
    "# swing phase\n",
    "x_swing_pos_temp=np.arange(stance_phase_lift,stance_phase_touch,swing_step)\n",
    "y_swing_pos_temp=[]\n",
    "#Calculate y values \n",
    "for x in range(len(x_swing_pos_temp)):\n",
    "    x_val=x_swing_pos_temp[x]\n",
    "    y=(a*(x_val**2))+(b*x_val)+c\n",
    "    y_swing_pos_temp.append(y)\n",
    "    \n",
    "RMx_swing_pos_temp=-np.arange(stance_phase_lift,stance_phase_touch,swing_step)\n",
    "RMy_swing_pos_temp=[]\n",
    "#Calculate y values \n",
    "for x in range(len(RMx_swing_pos_temp)):\n",
    "    x_val=RMx_swing_pos_temp[x]\n",
    "#     RMx_swing_pos_temp.append(x_val)\n",
    "    y=(a*(x_val**2))+(b*x_val)+c\n",
    "    RMy_swing_pos_temp.append(y)\n",
    "\n",
    "    \n",
    "# stance phase\n",
    "x_stance_pos_temp=-np.arange(stance_phase_lift,stance_phase_touch,stance_step)\n",
    "y_stance_pos_temp=[]\n",
    "#Calculate y values \n",
    "for x in range(len(x_stance_pos_temp)):\n",
    "#     x_val=x_swing_pos_temp[x]\n",
    "    y=stance_phase_height\n",
    "    y_stance_pos_temp.append(y)\n",
    "    \n",
    "RMx_stance_pos_temp=np.arange(stance_phase_lift,stance_phase_touch,stance_step)\n",
    "RMy_stance_pos_temp=[]\n",
    "#Calculate y values \n",
    "for x in range(len(RMx_stance_pos_temp)):\n",
    "    x_val=RMx_swing_pos_temp[x]\n",
    "#     RMx_stance_pos_temp.append(x_val)\n",
    "    y=stance_phase_height\n",
    "    RMy_stance_pos_temp.append(y)\n",
    "\n",
    "\n",
    "plt.plot(x_swing_pos_temp, y_swing_pos_temp, linestyle='-.', color='black') # parabola line\n",
    "plt.scatter(x_swing_pos_temp, y_swing_pos_temp, color='gray') # parabola points\n",
    "plt.plot(x_stance_pos_temp, y_stance_pos_temp, linestyle='-.', color='red') # parabola line\n",
    "plt.scatter(x_stance_pos_temp, y_stance_pos_temp, color='gray') # parabola points\n",
    "plt.show()\n",
    "\n",
    "\n",
    "def IKtoEncoderPosition(homeR, homeL, x_swing_pos_temp, y_swing_pos_temp, x_stance_pos_temp, y_stance_pos_temp):\n",
    "\n",
    "    theta_R_IK_temp = []\n",
    "    theta_L_IK_temp = []\n",
    "    encoder_right_IK_temp = []\n",
    "    encoder_left_IK_temp = []\n",
    "\n",
    "    # swing phase\n",
    "    for i in range(len(x_swing_pos_temp)):\n",
    "        x = x_swing_pos_temp[i]\n",
    "        y = y_swing_pos_temp[i]\n",
    "        res = IK_5_link(x, y)\n",
    "        theta_R_IK = np.array(res[0].x[0])\n",
    "        theta_L_IK = np.array(res[0].x[1])\n",
    "        theta_R_IK_temp.append(theta_R_IK)\n",
    "        theta_L_IK_temp.append(theta_L_IK)\n",
    "        encoder_right_IK = homeR + 8192/(2*np.pi)*(-theta_R_IK)\n",
    "        encoder_left_IK = homeL + 8192/(2*np.pi)*(np.pi-theta_L_IK)\n",
    "        encoder_right_IK_temp.append(encoder_right_IK)\n",
    "        encoder_left_IK_temp.append(encoder_left_IK)\n",
    "\n",
    "    # stance phase\n",
    "    for j in range(len(x_stance_pos_temp)):\n",
    "        x = x_stance_pos_temp[j]\n",
    "        y = y_stance_pos_temp[j]\n",
    "        res = IK_5_link(x, y)\n",
    "        theta_R_IK = np.array(res[0].x[0])\n",
    "        theta_L_IK = np.array(res[0].x[1])\n",
    "        theta_R_IK_temp.append(theta_R_IK)\n",
    "        theta_L_IK_temp.append(theta_L_IK)\n",
    "        encoder_right_IK = homeR + 8192/(2*np.pi)*(-theta_R_IK)\n",
    "        encoder_left_IK = homeL + 8192/(2*np.pi)*(np.pi-theta_L_IK)\n",
    "        encoder_right_IK_temp.append(encoder_right_IK)\n",
    "        encoder_left_IK_temp.append(encoder_left_IK)\n",
    "        \n",
    "    return(encoder_right_IK_temp, encoder_left_IK_temp )"
   ]
  },
  {
   "cell_type": "markdown",
   "metadata": {},
   "source": [
    "## test right side motors"
   ]
  },
  {
   "cell_type": "code",
   "execution_count": null,
   "metadata": {},
   "outputs": [],
   "source": [
    "# RMangle = ReadManuallyInput(odrvR, RM_homeR, RM_homeL, timelength)\n",
    "RM_IKdata = IKtoEncoderPosition(RM_homeR, RM_homeL, RMx_swing_pos_temp, RMy_swing_pos_temp, RMx_stance_pos_temp, RMy_stance_pos_temp)\n",
    "\n",
    "RMright_motor_en = []\n",
    "RMleft_motor_en = []\n",
    "RMright_motor_en = RM_IKdata[0]\n",
    "RMleft_motor_en = RM_IKdata[1]\n",
    "\n",
    "# ClosedLoopControlMode(odrvR)\n",
    "# looptime = 5\n",
    "# t0 = time.time()\n",
    "# i = 0\n",
    "# while True:\n",
    "#     odrvR.axis0.controller.pos_setpoint = RMright_motor_en[i]\n",
    "#     odrvR.axis1.controller.pos_setpoint = RMleft_motor_en[i]\n",
    "#     time.sleep(0.01)\n",
    "#     i = i+1\n",
    "#     if i>len(LMleft_motor_en)-1:\n",
    "#         i = 0\n",
    "#     if time.time()-t0 > looptime:\n",
    "#         break\n",
    "\n",
    "# # end the loop with the motor back to idle mode\n",
    "# MotorClearError(odrvR)\n",
    "# IdleMode(odrvR)\n"
   ]
  },
  {
   "cell_type": "code",
   "execution_count": null,
   "metadata": {},
   "outputs": [],
   "source": [
    "len(RMright_motor_en)\n",
    "len(RMleft_motor_en)\n",
    "# RMleft_motor_en"
   ]
  },
  {
   "cell_type": "code",
   "execution_count": null,
   "metadata": {},
   "outputs": [],
   "source": [
    "ClosedLoopControlMode(odrvR)\n",
    "looptime = 5\n",
    "t0 = time.time()\n",
    "i = 0\n",
    "while True:\n",
    "    odrvR.axis0.controller.pos_setpoint = RMright_motor_en[i]\n",
    "    odrvR.axis1.controller.pos_setpoint = RMleft_motor_en[i]\n",
    "    time.sleep(0.01)\n",
    "    i = i+1\n",
    "    if i>len(LMleft_motor_en)-1:\n",
    "        i = 0\n",
    "    if time.time()-t0 > looptime:\n",
    "        break\n",
    "\n",
    "# end the loop with the motor back to idle mode\n",
    "MotorClearError(odrvR)\n",
    "IdleMode(odrvR)\n"
   ]
  },
  {
   "cell_type": "markdown",
   "metadata": {},
   "source": [
    "## test left side motors"
   ]
  },
  {
   "cell_type": "code",
   "execution_count": null,
   "metadata": {},
   "outputs": [],
   "source": [
    "# RMangle = ReadManuallyInput(odrvR, RM_homeR, RM_homeL, timelength)\n",
    "LM_IKdata = IKtoEncoderPosition(LM_homeR, LM_homeL, x_swing_pos_temp, y_swing_pos_temp, x_stance_pos_temp, y_stance_pos_temp)\n",
    "\n",
    "# Generate a cyclic leg trajectory\n",
    "LMright_motor_en = []\n",
    "LMleft_motor_en = []\n",
    "LMright_motor_en = LM_IKdata[0]\n",
    "LMleft_motor_en = LM_IKdata[1]\n",
    "\n",
    "# # ClosedLoopControlMode(odrvL)\n",
    "# ClosedLoopControlMode(odrvL)\n",
    "# looptime = 5\n",
    "# t0 = time.time()\n",
    "# i = 0\n",
    "# while True:\n",
    "# #     for i in range(len(LMleft_motor_en)):\n",
    "#     odrvL.axis0.controller.pos_setpoint = LMright_motor_en[i]\n",
    "#     odrvL.axis1.controller.pos_setpoint = LMleft_motor_en[i]\n",
    "#     time.sleep(0.01)\n",
    "#     i = i+1\n",
    "#     if i>len(LMleft_motor_en)-1:\n",
    "#         i = 0\n",
    "#     if time.time()-t0 > looptime:\n",
    "#         break\n",
    "\n",
    "\n",
    "# # end the loop with the motor back to idle mode\n",
    "# MotorClearError(odrvL)\n",
    "# IdleMode(odrvL)"
   ]
  },
  {
   "cell_type": "code",
   "execution_count": null,
   "metadata": {},
   "outputs": [],
   "source": [
    "len(LMleft_motor_en)"
   ]
  },
  {
   "cell_type": "code",
   "execution_count": null,
   "metadata": {},
   "outputs": [],
   "source": [
    "# ClosedLoopControlMode(odrvL)\n",
    "ClosedLoopControlMode(odrvL)\n",
    "looptime = 20\n",
    "t0 = time.time()\n",
    "i = 0\n",
    "while True:\n",
    "#     for i in range(len(LMleft_motor_en)):\n",
    "    odrvL.axis0.controller.pos_setpoint = LMright_motor_en[i]\n",
    "    odrvL.axis1.controller.pos_setpoint = LMleft_motor_en[i]\n",
    "    time.sleep(0.01)\n",
    "    i = i+1\n",
    "    if i>len(LMleft_motor_en)-1:\n",
    "        i = 0\n",
    "    if time.time()-t0 > looptime:\n",
    "        break\n",
    "\n",
    "\n",
    "# end the loop with the motor back to idle mode\n",
    "MotorClearError(odrvL)\n",
    "IdleMode(odrvL)"
   ]
  },
  {
   "cell_type": "markdown",
   "metadata": {},
   "source": [
    "# final test with both legs"
   ]
  },
  {
   "cell_type": "code",
   "execution_count": null,
   "metadata": {},
   "outputs": [],
   "source": [
    "RM_homeL = 0\n",
    "RM_homeR = 0\n",
    "LM_homeL = 0\n",
    "LM_homeR = 0"
   ]
  },
  {
   "cell_type": "code",
   "execution_count": null,
   "metadata": {},
   "outputs": [],
   "source": [
    "# RMangle = ReadManuallyInput(odrvR, RM_homeR, RM_homeL, timelength)\n",
    "RM_IKdata = IKtoEncoderPosition(RM_homeR, RM_homeL, RMx_swing_pos_temp, RMy_swing_pos_temp, RMx_stance_pos_temp, RMy_stance_pos_temp)\n",
    "\n",
    "RMright_motor_en = []\n",
    "RMleft_motor_en = []\n",
    "RMright_motor_en = RM_IKdata[0]\n",
    "RMleft_motor_en = RM_IKdata[1]\n",
    "\n",
    "# RMangle = ReadManuallyInput(odrvR, RM_homeR, RM_homeL, timelength)\n",
    "LM_IKdata = IKtoEncoderPosition(LM_homeR, LM_homeL, x_swing_pos_temp, y_swing_pos_temp, x_stance_pos_temp, y_stance_pos_temp)\n",
    "\n",
    "# Generate a cyclic leg trajectory\n",
    "LMright_motor_en = []\n",
    "LMleft_motor_en = []\n",
    "LMright_motor_en = LM_IKdata[0]\n",
    "LMleft_motor_en = LM_IKdata[1]"
   ]
  },
  {
   "cell_type": "code",
   "execution_count": null,
   "metadata": {},
   "outputs": [],
   "source": [
    "a =len(RMright_motor_en)\n",
    "b= len(LMleft_motor_en)\n",
    "print('number of data in one cycle')\n",
    "print(a,b)"
   ]
  },
  {
   "cell_type": "markdown",
   "metadata": {},
   "source": [
    "# make sure the leading phase < len(encoder array)"
   ]
  },
  {
   "cell_type": "code",
   "execution_count": null,
   "metadata": {},
   "outputs": [],
   "source": [
    "ClosedLoopControlMode(odrvR)\n",
    "ClosedLoopControlMode(odrvL)\n",
    "looptime = 5\n",
    "t0 = time.time()\n",
    "i = 0\n",
    "leading_phase = 30\n",
    "print(\"time period(sec), phase difference (degree)\")\n",
    "phase_difference = leading_phase/len(RMright_motor_en)*360\n",
    "time_period = 0.01*len(RMright_motor_en)\n",
    "print(time_period, phase_difference)\n",
    "\n",
    "while True:\n",
    "    odrvR.axis0.controller.pos_setpoint = RMright_motor_en[leading_phase]\n",
    "    odrvR.axis1.controller.pos_setpoint = RMleft_motor_en[leading_phase]\n",
    "    odrvL.axis0.controller.pos_setpoint = LMright_motor_en[i]\n",
    "    odrvL.axis1.controller.pos_setpoint = LMleft_motor_en[i]\n",
    "    time.sleep(0.01)\n",
    "    i = i+1\n",
    "    leading_phase = leading_phase+1\n",
    "    if i>len(LMleft_motor_en)-1:\n",
    "        i = 0\n",
    "    if leading_phase>len(RMright_motor_en)-1:\n",
    "        leading_phase = 0\n",
    "    if time.time()-t0 > looptime:\n",
    "        break\n",
    "\n",
    "# end the loop with the motor back to idle mode\n",
    "MotorClearError(odrvR)\n",
    "IdleMode(odrvR)\n",
    "MotorClearError(odrvL)\n",
    "IdleMode(odrvL)"
   ]
  },
  {
   "cell_type": "code",
   "execution_count": null,
   "metadata": {},
   "outputs": [],
   "source": []
  }
 ],
 "metadata": {
  "kernelspec": {
   "display_name": "Python 3",
   "language": "python",
   "name": "python3"
  },
  "language_info": {
   "codemirror_mode": {
    "name": "ipython",
    "version": 3
   },
   "file_extension": ".py",
   "mimetype": "text/x-python",
   "name": "python",
   "nbconvert_exporter": "python",
   "pygments_lexer": "ipython3",
   "version": "3.7.3"
  }
 },
 "nbformat": 4,
 "nbformat_minor": 2
}
